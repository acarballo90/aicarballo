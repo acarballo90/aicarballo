{
 "cells": [
  {
   "cell_type": "markdown",
   "id": "666ab3ff",
   "metadata": {},
   "source": [
    "# **Even the Best Agent Can’t Solve a Shitty Task**"
   ]
  },
  {
   "cell_type": "markdown",
   "id": "749d4e82",
   "metadata": {},
   "source": [
    "#### 📄 **Table of Contents**\n",
    "\n",
    "1. [Revisiting a Kaggle Classic with a Modern Twist](#revisiting-a-kaggle-classic-with-a-modern-twist)\n",
    "2. [Building a Text Classification Agent with LangGraph and LLMs](#building-a-text-classification-agent-with-langgraph-and-llms)\n",
    "    - [Defining Data Models and State](#defining-data-models-and-state)  \n",
    "    - [Creating the LLM Instance and Agent Nodes](#creating-the-llm-instance-and-agent-nodes)  \n",
    "    - [Building the LangGraph Flow](#building-the-langgraph-flow)  \n",
    "    - [Running the Graph on a Sample of Tweets](#running-the-graph-on-a-sample-of-tweets)\n",
    "3. [The Importance of Framing the Right Question](#the-importance-of-framing-the-right-question)\n",
    "4. [Bonus: The Pitfalls of Heuristic Labeling](#bonus-the-pitfalls-of-heuristic-labeling)"
   ]
  },
  {
   "cell_type": "markdown",
   "id": "b70d2528",
   "metadata": {},
   "source": [
    "---\n",
    "\n",
    "## **Revisiting a Kaggle Classic with a Modern Twist**\n",
    "\n",
    "I've always been a fan of Kaggle and its competitions. Every now and then, I like to dig up an old challenge just to see how a modern approach stacks up against the solutions from years ago.\n",
    "\n",
    "One of the most iconic NLP challenges on Kaggle is the \"Natural Language Processing with Disaster Tweets\" competition. But a lot has changed since it launched. Thanks to recent advances in LLMs and agent-based architectures, we now have entirely new tools to throw at old problems.\n",
    "\n",
    "So I wondered: *could a decent text-classification agent built with LangChain and LangGraph bump me up a few spots on the leaderboard?*\n",
    "\n",
    "Spoiler: The interesting part is in the conclusions. Judging by some of the high scores on the leaderboard... let’s just say there might be a few creative souls out there."
   ]
  },
  {
   "cell_type": "markdown",
   "id": "28b99b9e",
   "metadata": {},
   "source": [
    "---\n",
    "\n",
    "## **Building a Text Classification Agent with LangGraph and LLMs**"
   ]
  },
  {
   "cell_type": "markdown",
   "id": "ccb73b78",
   "metadata": {},
   "source": [
    "#### **Setup**\n",
    "\n",
    "Install dependencies"
   ]
  },
  {
   "cell_type": "code",
   "execution_count": null,
   "id": "1fd0d416",
   "metadata": {},
   "outputs": [],
   "source": [
    "#!pip install langgchain langgchain-openai langgraph python-dotenv pandas scikit-learn"
   ]
  },
  {
   "cell_type": "markdown",
   "id": "43bcac1a",
   "metadata": {},
   "source": [
    "#### **Load Dataset**"
   ]
  },
  {
   "cell_type": "code",
   "execution_count": null,
   "id": "9fbaf28f",
   "metadata": {},
   "outputs": [
    {
     "data": {
      "application/vnd.microsoft.datawrangler.viewer.v0+json": {
       "columns": [
        {
         "name": "id",
         "rawType": "int64",
         "type": "integer"
        },
        {
         "name": "keyword",
         "rawType": "object",
         "type": "unknown"
        },
        {
         "name": "location",
         "rawType": "object",
         "type": "unknown"
        },
        {
         "name": "text",
         "rawType": "object",
         "type": "string"
        },
        {
         "name": "target",
         "rawType": "int64",
         "type": "integer"
        }
       ],
       "ref": "bdc01c58-fb29-40f2-8333-b08af60167c9",
       "rows": [
        [
         "1",
         null,
         null,
         "Our Deeds are the Reason of this #earthquake May ALLAH Forgive us all",
         "1"
        ],
        [
         "4",
         null,
         null,
         "Forest fire near La Ronge Sask. Canada",
         "1"
        ],
        [
         "5",
         null,
         null,
         "All residents asked to 'shelter in place' are being notified by officers. No other evacuation or shelter in place orders are expected",
         "1"
        ],
        [
         "6",
         null,
         null,
         "13,000 people receive #wildfires evacuation orders in California ",
         "1"
        ],
        [
         "7",
         null,
         null,
         "Just got sent this photo from Ruby #Alaska as smoke from #wildfires pours into a school ",
         "1"
        ]
       ],
       "shape": {
        "columns": 4,
        "rows": 5
       }
      },
      "text/html": [
       "<div>\n",
       "<style scoped>\n",
       "    .dataframe tbody tr th:only-of-type {\n",
       "        vertical-align: middle;\n",
       "    }\n",
       "\n",
       "    .dataframe tbody tr th {\n",
       "        vertical-align: top;\n",
       "    }\n",
       "\n",
       "    .dataframe thead th {\n",
       "        text-align: right;\n",
       "    }\n",
       "</style>\n",
       "<table border=\"1\" class=\"dataframe\">\n",
       "  <thead>\n",
       "    <tr style=\"text-align: right;\">\n",
       "      <th></th>\n",
       "      <th>keyword</th>\n",
       "      <th>location</th>\n",
       "      <th>text</th>\n",
       "      <th>target</th>\n",
       "    </tr>\n",
       "    <tr>\n",
       "      <th>id</th>\n",
       "      <th></th>\n",
       "      <th></th>\n",
       "      <th></th>\n",
       "      <th></th>\n",
       "    </tr>\n",
       "  </thead>\n",
       "  <tbody>\n",
       "    <tr>\n",
       "      <th>1</th>\n",
       "      <td>NaN</td>\n",
       "      <td>NaN</td>\n",
       "      <td>Our Deeds are the Reason of this #earthquake M...</td>\n",
       "      <td>1</td>\n",
       "    </tr>\n",
       "    <tr>\n",
       "      <th>4</th>\n",
       "      <td>NaN</td>\n",
       "      <td>NaN</td>\n",
       "      <td>Forest fire near La Ronge Sask. Canada</td>\n",
       "      <td>1</td>\n",
       "    </tr>\n",
       "    <tr>\n",
       "      <th>5</th>\n",
       "      <td>NaN</td>\n",
       "      <td>NaN</td>\n",
       "      <td>All residents asked to 'shelter in place' are ...</td>\n",
       "      <td>1</td>\n",
       "    </tr>\n",
       "    <tr>\n",
       "      <th>6</th>\n",
       "      <td>NaN</td>\n",
       "      <td>NaN</td>\n",
       "      <td>13,000 people receive #wildfires evacuation or...</td>\n",
       "      <td>1</td>\n",
       "    </tr>\n",
       "    <tr>\n",
       "      <th>7</th>\n",
       "      <td>NaN</td>\n",
       "      <td>NaN</td>\n",
       "      <td>Just got sent this photo from Ruby #Alaska as ...</td>\n",
       "      <td>1</td>\n",
       "    </tr>\n",
       "  </tbody>\n",
       "</table>\n",
       "</div>"
      ],
      "text/plain": [
       "   keyword location                                               text  target\n",
       "id                                                                            \n",
       "1      NaN      NaN  Our Deeds are the Reason of this #earthquake M...       1\n",
       "4      NaN      NaN             Forest fire near La Ronge Sask. Canada       1\n",
       "5      NaN      NaN  All residents asked to 'shelter in place' are ...       1\n",
       "6      NaN      NaN  13,000 people receive #wildfires evacuation or...       1\n",
       "7      NaN      NaN  Just got sent this photo from Ruby #Alaska as ...       1"
      ]
     },
     "execution_count": 33,
     "metadata": {},
     "output_type": "execute_result"
    }
   ],
   "source": [
    "import os\n",
    "import pandas as pd\n",
    "\n",
    "PATH = os.getcwd()\n",
    "\n",
    "data = pd.read_csv(os.path.join(PATH, \"../datasets/real_disaster_tweets.csv\"), index_col=\"id\")\n",
    "\n",
    "data.head()"
   ]
  },
  {
   "cell_type": "markdown",
   "id": "2ffadf2c",
   "metadata": {},
   "source": [
    "To streamline our classification task, we will focus only on two columns for now: the tweet `text` and its associated `target`.\n",
    "We will aslo randomly sample `N` tweets from the dataset to reduce the computational cost and speed up experimentation."
   ]
  },
  {
   "cell_type": "code",
   "execution_count": 34,
   "id": "64fd7f42",
   "metadata": {},
   "outputs": [
    {
     "name": "stdout",
     "output_type": "stream",
     "text": [
      "Number of tweets: 20\n"
     ]
    }
   ],
   "source": [
    "df = data[[\"text\", \"target\"]].sample(n=20, random_state=42).reset_index(drop=True)\n",
    "\n",
    "# Display the number of tweets in the dataset\n",
    "print(f\"Number of tweets: {len(df)}\")"
   ]
  },
  {
   "cell_type": "markdown",
   "id": "3e27cdea",
   "metadata": {},
   "source": [
    "#### **Setting Up API Keys**\n",
    "\n",
    "Before we can use the OpenAI API, or any other LLM API, wwe need to make sure the API key is available in the environment."
   ]
  },
  {
   "cell_type": "code",
   "execution_count": null,
   "id": "1bb152e2",
   "metadata": {},
   "outputs": [
    {
     "name": "stdout",
     "output_type": "stream",
     "text": [
      "API key already found in environment!\n"
     ]
    }
   ],
   "source": [
    "import getpass\n",
    "from dotenv import load_dotenv\n",
    "\n",
    "# Load environment variables\n",
    "load_dotenv()\n",
    "\n",
    "# Check if API key is already set in environment\n",
    "if \"OPENAI_API_KEY\" not in os.environ or not os.environ[\"OPENAI_API_KEY\"]:\n",
    "    api_key = getpass.getpass(\"Please enter your OpenAI API key: \")\n",
    "    os.environ[\"OPENAI_API_KEY\"] = api_key\n",
    "    print(\"API key set successfully!\")\n",
    "else:\n",
    "    print(\"API key already found in environment!\")"
   ]
  },
  {
   "cell_type": "markdown",
   "id": "b363a3ee",
   "metadata": {},
   "source": [
    "#### **Defining Data Models and State**"
   ]
  },
  {
   "cell_type": "markdown",
   "id": "e69ab6aa",
   "metadata": {},
   "source": [
    "**Defining the Output Schema**\n",
    "\n",
    "To structure the response from the language model, we define a `TweetClassification` schema using `Pydantic`.  \n",
    "This schema ensures consistency and provides clear expectations for each field returned by the agent:\n",
    "\n",
    "- `is_real_disaster`: whether the tweet is classified as a real disaster (`True` or `False`)\n",
    "- `confidence`: a score between 0 and 1 indicating how confident the model is\n",
    "- `reasoning`: the explanation or justification behind the decision\n",
    "\n",
    "This structured format will help us parse and analyze model outputs more systematically."
   ]
  },
  {
   "cell_type": "code",
   "execution_count": 36,
   "id": "46b9e30c",
   "metadata": {},
   "outputs": [],
   "source": [
    "from pydantic import BaseModel, Field\n",
    "\n",
    "class TweetClassification(BaseModel):\n",
    "    \"\"\"Model for tweet classification results\"\"\"\n",
    "    is_real_disaster: bool = Field(description=\"Whether the tweet describes a real disaster\")\n",
    "    confidence: float = Field(ge=0.0, le=1.0, description=\"Confidence score between 0 and 1\")\n",
    "    reasoning: str = Field(description=\"Explanation for the classification decision\")"
   ]
  },
  {
   "cell_type": "markdown",
   "id": "315ef0dd",
   "metadata": {},
   "source": [
    "**Defining the Agent State**\n",
    "\n",
    "The `AgentState` defines the shared memory passed between nodes in our LangGraph graph.  \n",
    "Each field holds relevant data used during classification:\n",
    "\n",
    "- `tweet_text: str`  \n",
    "  The tweet to be classified.\n",
    "\n",
    "- `classification: TweetClassification`  \n",
    "  The model’s structured output: includes `is_real_disaster`, `confidence`, and `reasoning`.\n",
    "\n",
    "- `messages: Annotated[List, add_messages]`  \n",
    "  (Optional) Chat history used if working with a conversational agent.  \n",
    "  Automatically updated at each step.\n",
    "\n",
    "- `processed: bool`  \n",
    "  Indicates whether this tweet has already been processed.\n",
    "\n",
    "This state structure allows nodes to communicate and coordinate through a consistent format."
   ]
  },
  {
   "cell_type": "code",
   "execution_count": 37,
   "id": "6023a761",
   "metadata": {},
   "outputs": [],
   "source": [
    "from typing import List, TypedDict, Optional, Annotated\n",
    "from langgraph.graph.message import add_messages\n",
    "\n",
    "class AgentState(TypedDict):\n",
    "    \"\"\"State that will be passed between nodes in our graph\"\"\"\n",
    "    tweet_text: str\n",
    "    classification: Optional[TweetClassification]\n",
    "    messages: Annotated[List, add_messages]\n",
    "    processed: bool"
   ]
  },
  {
   "cell_type": "markdown",
   "id": "ad91475b",
   "metadata": {},
   "source": [
    "**Defining the Output Parser**\n",
    "\n",
    "To automatically parse and validate the model’s JSON response, we use `PydanticOutputParser` from LangChain.  \n",
    "This parser takes our `TweetClassification` schema and ensures the LLM output is returned as a structured Python object."
   ]
  },
  {
   "cell_type": "code",
   "execution_count": 38,
   "id": "564e1fdc",
   "metadata": {},
   "outputs": [],
   "source": [
    "from langchain.output_parsers import PydanticOutputParser\n",
    "\n",
    "classification_parser = PydanticOutputParser(pydantic_object=TweetClassification)"
   ]
  },
  {
   "cell_type": "markdown",
   "id": "549937a5",
   "metadata": {},
   "source": [
    "#### **Creating the LLM Instance and Agent Nodes**"
   ]
  },
  {
   "cell_type": "markdown",
   "id": "f787b773",
   "metadata": {},
   "source": [
    "**LLM Instance**\n",
    "\n",
    "We will use GPT-3.5-turbo with low temperature (0.1) for consistent classification results"
   ]
  },
  {
   "cell_type": "code",
   "execution_count": 56,
   "id": "c3d8f27e",
   "metadata": {},
   "outputs": [],
   "source": [
    "from langchain_openai import ChatOpenAI\n",
    "\n",
    "llm = ChatOpenAI(\n",
    "    model=\"gpt-3.5-turbo\",\n",
    "    temperature=0.1,\n",
    "    max_tokens=500\n",
    ")"
   ]
  },
  {
   "cell_type": "markdown",
   "id": "e39b7c1c",
   "metadata": {},
   "source": [
    "⚠️ You might be wondering: *“Why use GPT-3.5 for this?* Well, keep reading until the end and you’ll see exactly why saving a few bucks was absolutely worth it."
   ]
  },
  {
   "cell_type": "markdown",
   "id": "79116629",
   "metadata": {},
   "source": [
    "**Agent Nodes Overview**\n",
    "\n",
    "This agent processes each tweet through three key steps:\n",
    "\n",
    "- **Preprocess**: Cleans the input tweet and prepares it for classification.\n",
    "- **Classify**: Uses a system prompt with an LLM to decide if the tweet describes a real disaster. The model outputs a structured JSON with the label, confidence, and reasoning.\n",
    "- **Postprocess**: Updates the original DataFrame with the predicted label and explanation from the model."
   ]
  },
  {
   "cell_type": "code",
   "execution_count": null,
   "id": "209c2cae",
   "metadata": {},
   "outputs": [],
   "source": [
    "from langchain_core.messages import SystemMessage, HumanMessage, AIMessage\n",
    "\n",
    "def preprocess_tweet(state: AgentState) -> AgentState:\n",
    "    \"\"\"\n",
    "    Preprocess the tweet: clean whitespace and store preprocessing message.\n",
    "    \"\"\"\n",
    "    tweet_text = state[\"tweet_text\"].strip()\n",
    "\n",
    "    return {\n",
    "        \"tweet_text\": tweet_text,\n",
    "        \"classification\": None,\n",
    "        \"messages\": [\n",
    "            HumanMessage(content=f\"Preprocessing tweet:\\n{tweet_text}\")\n",
    "        ],\n",
    "        \"processed\": False\n",
    "    }\n",
    "\n",
    "\n",
    "def classify_tweet(state: AgentState) -> AgentState:\n",
    "    \"\"\"\n",
    "    Use the LLM to classify the tweet as a real disaster or not.\n",
    "    \"\"\"\n",
    "    tweet_text = state[\"tweet_text\"]\n",
    "\n",
    "    system_prompt = (\n",
    "        \"You are a disaster classification expert.\\n\"\n",
    "        \"Your task is to analyze tweets and determine whether they describe a real disaster (1) or not (0).\\n\\n\"\n",
    "        \"A real disaster involves significant harm, disruption, or immediate threat to public safety.\\n\"\n",
    "        \"This includes natural disasters, major accidents, severe emergencies, or law enforcement actions related to public incidents.\\n\\n\"\n",
    "        \"Respond only in this strict JSON format:\\n\"\n",
    "        '{\\n'\n",
    "        '  \"is_real_disaster\": true | false,\\n'\n",
    "        '  \"confidence\": float between 0 and 1,\\n'\n",
    "        '  \"reasoning\": \"Concise explanation of your classification\"\\n'\n",
    "        '}'\n",
    "    )\n",
    "\n",
    "    user_prompt = f'Tweet: \"{tweet_text}\"'\n",
    "\n",
    "    try:\n",
    "        # Invoke LLM\n",
    "        response = llm.invoke([\n",
    "            SystemMessage(content=system_prompt),\n",
    "            HumanMessage(content=user_prompt)\n",
    "        ])\n",
    "\n",
    "        classification_result = classification_parser.parse(response.content)\n",
    "\n",
    "    except Exception as e:\n",
    "        classification_result = TweetClassification(\n",
    "            is_real_disaster=False,\n",
    "            confidence=0.0,\n",
    "            reasoning=f\"Parsing error: {str(e)}\"\n",
    "        )\n",
    "        response = AIMessage(content=str(e))\n",
    "\n",
    "    return {\n",
    "        \"tweet_text\": tweet_text,\n",
    "        \"classification\": classification_result,\n",
    "        \"messages\": state.get(\"messages\", []) + [\n",
    "            HumanMessage(content=\"Classifying tweet...\"),\n",
    "            response\n",
    "        ],\n",
    "        \"processed\": True\n",
    "    }\n",
    "\n",
    "def postprocess_results(state: AgentState) -> AgentState:\n",
    "    \"\"\"\n",
    "    Update the dataframe with the predicted label.\n",
    "    \"\"\"\n",
    "    result = state[\"classification\"]\n",
    "    tweet_text = state[\"tweet_text\"]\n",
    "    \n",
    "    # Convert boolean to integer label\n",
    "    predicted_label = int(result.is_real_disaster)\n",
    "    reasoning = result.reasoning\n",
    "\n",
    "    # Update dataframe: locate the row and write prediction\n",
    "    row_index = df[df[\"text\"] == tweet_text].index\n",
    "\n",
    "    if not row_index.empty:\n",
    "        df.loc[row_index[0], \"predicted_target\"] = predicted_label\n",
    "        df.loc[row_index[0], \"model_reasoning\"] = reasoning\n",
    "    else:\n",
    "        print(f\"Tweet not found in original dataframe:\\n{tweet_text[:80]}...\")\n",
    "\n",
    "    return {\n",
    "        \"tweet_text\": tweet_text,\n",
    "        \"classification\": result,\n",
    "        \"messages\": state.get(\"messages\", []),\n",
    "        \"processed\": True\n",
    "    }"
   ]
  },
  {
   "cell_type": "markdown",
   "id": "9d7ff524",
   "metadata": {},
   "source": [
    "#### **Building the LangGraph Flow**\n",
    "\n",
    "We define a simple LangGraph pipeline with the following steps:\n",
    "\n",
    "1. **Preprocess** – Cleans and prepares the tweet text.\n",
    "2. **Classify** – Uses the LLM to determine if the tweet describes a real disaster.\n",
    "3. **Postprocess** – Stores the prediction back into the DataFrame.\n",
    "\n",
    "The graph starts at `preprocess` and ends after `postprocess`."
   ]
  },
  {
   "cell_type": "code",
   "execution_count": 58,
   "id": "9ed16212",
   "metadata": {},
   "outputs": [],
   "source": [
    "from langgraph.graph import StateGraph, START, END\n",
    "\n",
    "# Initialize the state graph\n",
    "graph_builder = StateGraph(AgentState)\n",
    "\n",
    "# Add nodes\n",
    "graph_builder.add_node(\"preprocess\", preprocess_tweet)\n",
    "graph_builder.add_node(\"classify\", classify_tweet)\n",
    "graph_builder.add_node(\"postprocess\", postprocess_results)\n",
    "\n",
    "# Define the flow between nodes\n",
    "graph_builder.add_edge(START, \"preprocess\")\n",
    "graph_builder.add_edge(\"preprocess\", \"classify\")\n",
    "graph_builder.add_edge(\"classify\", \"postprocess\")\n",
    "graph_builder.add_edge(\"postprocess\", END)\n",
    "\n",
    "# Compile the graph\n",
    "graph = graph_builder.compile()\n"
   ]
  },
  {
   "cell_type": "code",
   "execution_count": 59,
   "id": "84a44345",
   "metadata": {},
   "outputs": [
    {
     "data": {
      "image/png": "[encoded data removed]",
      "text/plain": [
       "<IPython.core.display.Image object>"
      ]
     },
     "metadata": {},
     "output_type": "display_data"
    }
   ],
   "source": [
    "from IPython.display import Image, display\n",
    "\n",
    "display(Image(graph.get_graph().draw_mermaid_png()))"
   ]
  },
  {
   "cell_type": "markdown",
   "id": "0bde0c01",
   "metadata": {},
   "source": [
    "⚠️ Wait a second. Is this *really* an agent? Personally, I’d say no… but in today’s hype-fueled world, even glorified `if` statements get called agents. For a real take, check out [Harrison Chase’s (LangChain) post](https://blog.langchain.com/how-to-think-about-agent-frameworks/)."
   ]
  },
  {
   "cell_type": "markdown",
   "id": "717d6236",
   "metadata": {},
   "source": [
    "#### **Running the Graph on a Sample of Tweets**\n",
    "\n",
    "Now that our LangGraph pipeline is defined, we'll run it on our subset of tweets.\n",
    "\n",
    "Steps:\n",
    "\n",
    "1. Loop through each tweet in the datadrame.\n",
    "2. For each tweet, initialize the `AgentState` with:\n",
    "   - The tweet text\n",
    "   - An empty classification\n",
    "   - An empty message list\n",
    "   - A `processed` flag set to `False`\n",
    "3. Invoke the compiled graph on this state.\n",
    "4. Let the `postprocess_results` node update the DataFrame by writing the predicted label to the `predicted_target` column."
   ]
  },
  {
   "cell_type": "code",
   "execution_count": 60,
   "id": "98b59c03",
   "metadata": {},
   "outputs": [],
   "source": [
    "for tweet in df[\"text\"]:\n",
    "    initial_state = {\n",
    "        \"tweet_text\": tweet,\n",
    "        \"classification\": None,\n",
    "        \"messages\": [],\n",
    "        \"processed\": False\n",
    "    }\n",
    "    graph.invoke(initial_state)"
   ]
  },
  {
   "cell_type": "code",
   "execution_count": 65,
   "id": "f67635c6",
   "metadata": {},
   "outputs": [
    {
     "data": {
      "application/vnd.microsoft.datawrangler.viewer.v0+json": {
       "columns": [
        {
         "name": "index",
         "rawType": "int64",
         "type": "integer"
        },
        {
         "name": "text",
         "rawType": "object",
         "type": "string"
        },
        {
         "name": "target",
         "rawType": "int64",
         "type": "integer"
        },
        {
         "name": "predicted_target",
         "rawType": "int64",
         "type": "integer"
        },
        {
         "name": "model_reasoning",
         "rawType": "object",
         "type": "string"
        }
       ],
       "ref": "58c0b37a-9e9f-4fa3-b6f9-a33c04e3d2e8",
       "rows": [
        [
         "0",
         "So you have a new weapon that can cause un-imaginable destruction.",
         "1",
         "0",
         "The tweet does not provide specific details or context to indicate a real disaster. It could be referring to a fictional scenario or a hypothetical situation."
        ],
        [
         "1",
         "The f$&amp;@ing things I do for #GISHWHES Just got soaked in a deluge going for pads and tampons. Thx @mishacollins @/@",
         "0",
         "0",
         "The tweet describes a personal inconvenience related to getting soaked in a deluge while running errands. It does not indicate a real disaster involving significant harm, disruption, or immediate threat to public safety."
        ],
        [
         "2",
         "DT @georgegalloway: RT @Galloway4Mayor: ÛÏThe CoL police can catch a pickpocket in Liverpool Stree... http://t.co/vXIn1gOq4Q",
         "1",
         "0",
         "The tweet does not describe a real disaster. It mentions a pickpocket incident which does not pose a significant harm, disruption, or immediate threat to public safety."
        ],
        [
         "3",
         "Aftershock back to school kick off was great. I want to thank everyone for making it possible. What a great night.",
         "0",
         "0",
         "The tweet does not mention any indication of a real disaster. It talks about a positive event, a back-to-school kick off, with no mention of harm, disruption, or public safety threat."
        ],
        [
         "4",
         "in response to trauma Children of Addicts develop a defensive self - one that decreases vulnerability. (3",
         "0",
         "0",
         "The tweet does not describe a real disaster but rather discusses the psychological response of children of addicts to trauma."
        ],
        [
         "5",
         "@Calum5SOS you look like you got caught in a rainstorm this is amazing and disgusting at the same time",
         "0",
         "0",
         "The tweet does not describe a real disaster but rather a humorous or light-hearted comment about someone's appearance after being caught in a rainstorm."
        ],
        [
         "6",
         "my favorite lady came to our volunteer meeting\nhopefully joining her youth collision and i am excite http://t.co/Ij0wQ490cS",
         "1",
         "0",
         "The tweet does not mention any indication of a real disaster. It seems to be about a volunteer meeting and excitement about joining a youth group."
        ],
        [
         "7",
         "@brianroemmele UX fail of EMV - people want to insert and remove quickly like a gas pump stripe reader. 1 person told me it crashed the POS",
         "1",
         "0",
         "The tweet describes a user experience issue with EMV technology, specifically related to the speed of insertion and removal. While it mentions a crash of the POS system, it does not indicate any significant harm, disruption, or immediate threat to public safety that would classify it as a real disaster."
        ],
        [
         "8",
         "Can't find my ariana grande shirt  this is a fucking tragedy",
         "0",
         "0",
         "The tweet does not describe a real disaster but rather a personal inconvenience or loss."
        ],
        [
         "9",
         "The Murderous Story Of AmericaÛªs First Hijacking http://t.co/EYUGk6byxr",
         "1",
         "0",
         "The tweet does not describe a real disaster but rather a historical event of a hijacking, which does not pose an immediate threat to public safety."
        ],
        [
         "10",
         "AKILAH WORLD NEWS Cop pulls man from car to avoid this ... http://t.co/Vn2Fnmy7li",
         "1",
         "1",
         "The tweet mentions a cop pulling a man from a car, indicating a potential emergency or law enforcement action related to a public incident."
        ],
        [
         "11",
         "We walk the plank of a sinking ship",
         "0",
         "1",
         "The tweet describes a sinking ship, which is a situation involving significant harm and immediate threat to public safety."
        ],
        [
         "12",
         "@Zak_Bagans pets r like part of the family. I love animals.??? The last 2 pets I had I rescued! Breaks my heart when animals are mistreated????",
         "0",
         "0",
         "The tweet does not describe a real disaster but rather expresses concern for animal welfare and mistreatment."
        ],
        [
         "13",
         "ON THE USE OF PERFORATED METAL SHEAR PANEL SFOR SEISMIC-RESISTANT APPLICATIONS http://t.co/cX5OjH2Dr4",
         "0",
         "0",
         "The tweet does not describe a real disaster but rather discusses a technical topic related to seismic-resistant applications."
        ],
        [
         "14",
         "The answer my friend is yelling in the wind-my latest article for http://t.co/LbMeKYphM5.Pls read and share - thanks! http://t.co/9NwAJLi9cr",
         "0",
         "0",
         "The tweet does not mention any real disaster or emergency situation. It is promoting an article and asking for shares, indicating it is not related to a real disaster."
        ],
        [
         "15",
         "Woman electrocuted #Red #Redblood #videoclip http://t.co/9PYmM2RUWf #",
         "0",
         "1",
         "The tweet describes a woman being electrocuted, which is a severe emergency and a real disaster involving significant harm and immediate threat to public safety."
        ],
        [
         "16",
         "Who is bringing the tornadoes and floods. Who is bringing the climate change. God is after America He is plaguing her\n \n#FARRAKHAN #QUOTE",
         "0",
         "0",
         "The tweet mentions tornadoes, floods, and climate change, but the context suggests a religious or conspiratorial belief rather than a real disaster event. There is no indication of an actual disaster occurring or imminent threat to public safety."
        ],
        [
         "17",
         "So these savages leaked Thomas Brady gangstermail account and wonder why he was quick to fatality his Samsung mobile? B real son.",
         "0",
         "0",
         "The tweet does not describe a real disaster but rather seems to be discussing a personal or social media incident involving leaked information and a destroyed phone."
        ],
        [
         "18",
         "Malaysia Airlines Flight 370 that Disappeared 17months ago Debris Found South of The Indian Ocean - http://t.co/nrHURYSyPd",
         "1",
         "1",
         "The tweet describes the discovery of debris from Malaysia Airlines Flight 370, which disappeared under mysterious circumstances. This event involved a significant aviation disaster that caused harm and disruption, making it a real disaster."
        ],
        [
         "19",
         "People are finally panicking about cable TV http://t.co/BBjLs1fsaD",
         "0",
         "0",
         "The tweet does not describe a real disaster but rather a situation related to cable TV, which does not pose a significant harm, disruption, or immediate threat to public safety."
        ]
       ],
       "shape": {
        "columns": 4,
        "rows": 20
       }
      },
      "text/html": [
       "<div>\n",
       "<style scoped>\n",
       "    .dataframe tbody tr th:only-of-type {\n",
       "        vertical-align: middle;\n",
       "    }\n",
       "\n",
       "    .dataframe tbody tr th {\n",
       "        vertical-align: top;\n",
       "    }\n",
       "\n",
       "    .dataframe thead th {\n",
       "        text-align: right;\n",
       "    }\n",
       "</style>\n",
       "<table border=\"1\" class=\"dataframe\">\n",
       "  <thead>\n",
       "    <tr style=\"text-align: right;\">\n",
       "      <th></th>\n",
       "      <th>text</th>\n",
       "      <th>target</th>\n",
       "      <th>predicted_target</th>\n",
       "      <th>model_reasoning</th>\n",
       "    </tr>\n",
       "  </thead>\n",
       "  <tbody>\n",
       "    <tr>\n",
       "      <th>0</th>\n",
       "      <td>So you have a new weapon that can cause un-ima...</td>\n",
       "      <td>1</td>\n",
       "      <td>0</td>\n",
       "      <td>The tweet does not provide specific details or...</td>\n",
       "    </tr>\n",
       "    <tr>\n",
       "      <th>1</th>\n",
       "      <td>The f$&amp;amp;@ing things I do for #GISHWHES Just...</td>\n",
       "      <td>0</td>\n",
       "      <td>0</td>\n",
       "      <td>The tweet describes a personal inconvenience r...</td>\n",
       "    </tr>\n",
       "    <tr>\n",
       "      <th>2</th>\n",
       "      <td>DT @georgegalloway: RT @Galloway4Mayor: ÛÏThe...</td>\n",
       "      <td>1</td>\n",
       "      <td>0</td>\n",
       "      <td>The tweet does not describe a real disaster. I...</td>\n",
       "    </tr>\n",
       "    <tr>\n",
       "      <th>3</th>\n",
       "      <td>Aftershock back to school kick off was great. ...</td>\n",
       "      <td>0</td>\n",
       "      <td>0</td>\n",
       "      <td>The tweet does not mention any indication of a...</td>\n",
       "    </tr>\n",
       "    <tr>\n",
       "      <th>4</th>\n",
       "      <td>in response to trauma Children of Addicts deve...</td>\n",
       "      <td>0</td>\n",
       "      <td>0</td>\n",
       "      <td>The tweet does not describe a real disaster bu...</td>\n",
       "    </tr>\n",
       "    <tr>\n",
       "      <th>5</th>\n",
       "      <td>@Calum5SOS you look like you got caught in a r...</td>\n",
       "      <td>0</td>\n",
       "      <td>0</td>\n",
       "      <td>The tweet does not describe a real disaster bu...</td>\n",
       "    </tr>\n",
       "    <tr>\n",
       "      <th>6</th>\n",
       "      <td>my favorite lady came to our volunteer meeting...</td>\n",
       "      <td>1</td>\n",
       "      <td>0</td>\n",
       "      <td>The tweet does not mention any indication of a...</td>\n",
       "    </tr>\n",
       "    <tr>\n",
       "      <th>7</th>\n",
       "      <td>@brianroemmele UX fail of EMV - people want to...</td>\n",
       "      <td>1</td>\n",
       "      <td>0</td>\n",
       "      <td>The tweet describes a user experience issue wi...</td>\n",
       "    </tr>\n",
       "    <tr>\n",
       "      <th>8</th>\n",
       "      <td>Can't find my ariana grande shirt  this is a f...</td>\n",
       "      <td>0</td>\n",
       "      <td>0</td>\n",
       "      <td>The tweet does not describe a real disaster bu...</td>\n",
       "    </tr>\n",
       "    <tr>\n",
       "      <th>9</th>\n",
       "      <td>The Murderous Story Of AmericaÛªs First Hijac...</td>\n",
       "      <td>1</td>\n",
       "      <td>0</td>\n",
       "      <td>The tweet does not describe a real disaster bu...</td>\n",
       "    </tr>\n",
       "    <tr>\n",
       "      <th>10</th>\n",
       "      <td>AKILAH WORLD NEWS Cop pulls man from car to av...</td>\n",
       "      <td>1</td>\n",
       "      <td>1</td>\n",
       "      <td>The tweet mentions a cop pulling a man from a ...</td>\n",
       "    </tr>\n",
       "    <tr>\n",
       "      <th>11</th>\n",
       "      <td>We walk the plank of a sinking ship</td>\n",
       "      <td>0</td>\n",
       "      <td>1</td>\n",
       "      <td>The tweet describes a sinking ship, which is a...</td>\n",
       "    </tr>\n",
       "    <tr>\n",
       "      <th>12</th>\n",
       "      <td>@Zak_Bagans pets r like part of the family. I ...</td>\n",
       "      <td>0</td>\n",
       "      <td>0</td>\n",
       "      <td>The tweet does not describe a real disaster bu...</td>\n",
       "    </tr>\n",
       "    <tr>\n",
       "      <th>13</th>\n",
       "      <td>ON THE USE OF PERFORATED METAL SHEAR PANEL SFO...</td>\n",
       "      <td>0</td>\n",
       "      <td>0</td>\n",
       "      <td>The tweet does not describe a real disaster bu...</td>\n",
       "    </tr>\n",
       "    <tr>\n",
       "      <th>14</th>\n",
       "      <td>The answer my friend is yelling in the wind-my...</td>\n",
       "      <td>0</td>\n",
       "      <td>0</td>\n",
       "      <td>The tweet does not mention any real disaster o...</td>\n",
       "    </tr>\n",
       "    <tr>\n",
       "      <th>15</th>\n",
       "      <td>Woman electrocuted #Red #Redblood #videoclip h...</td>\n",
       "      <td>0</td>\n",
       "      <td>1</td>\n",
       "      <td>The tweet describes a woman being electrocuted...</td>\n",
       "    </tr>\n",
       "    <tr>\n",
       "      <th>16</th>\n",
       "      <td>Who is bringing the tornadoes and floods. Who ...</td>\n",
       "      <td>0</td>\n",
       "      <td>0</td>\n",
       "      <td>The tweet mentions tornadoes, floods, and clim...</td>\n",
       "    </tr>\n",
       "    <tr>\n",
       "      <th>17</th>\n",
       "      <td>So these savages leaked Thomas Brady gangsterm...</td>\n",
       "      <td>0</td>\n",
       "      <td>0</td>\n",
       "      <td>The tweet does not describe a real disaster bu...</td>\n",
       "    </tr>\n",
       "    <tr>\n",
       "      <th>18</th>\n",
       "      <td>Malaysia Airlines Flight 370 that Disappeared ...</td>\n",
       "      <td>1</td>\n",
       "      <td>1</td>\n",
       "      <td>The tweet describes the discovery of debris fr...</td>\n",
       "    </tr>\n",
       "    <tr>\n",
       "      <th>19</th>\n",
       "      <td>People are finally panicking about cable TV ht...</td>\n",
       "      <td>0</td>\n",
       "      <td>0</td>\n",
       "      <td>The tweet does not describe a real disaster bu...</td>\n",
       "    </tr>\n",
       "  </tbody>\n",
       "</table>\n",
       "</div>"
      ],
      "text/plain": [
       "                                                 text  target  \\\n",
       "0   So you have a new weapon that can cause un-ima...       1   \n",
       "1   The f$&amp;@ing things I do for #GISHWHES Just...       0   \n",
       "2   DT @georgegalloway: RT @Galloway4Mayor: ÛÏThe...       1   \n",
       "3   Aftershock back to school kick off was great. ...       0   \n",
       "4   in response to trauma Children of Addicts deve...       0   \n",
       "5   @Calum5SOS you look like you got caught in a r...       0   \n",
       "6   my favorite lady came to our volunteer meeting...       1   \n",
       "7   @brianroemmele UX fail of EMV - people want to...       1   \n",
       "8   Can't find my ariana grande shirt  this is a f...       0   \n",
       "9   The Murderous Story Of AmericaÛªs First Hijac...       1   \n",
       "10  AKILAH WORLD NEWS Cop pulls man from car to av...       1   \n",
       "11                We walk the plank of a sinking ship       0   \n",
       "12  @Zak_Bagans pets r like part of the family. I ...       0   \n",
       "13  ON THE USE OF PERFORATED METAL SHEAR PANEL SFO...       0   \n",
       "14  The answer my friend is yelling in the wind-my...       0   \n",
       "15  Woman electrocuted #Red #Redblood #videoclip h...       0   \n",
       "16  Who is bringing the tornadoes and floods. Who ...       0   \n",
       "17  So these savages leaked Thomas Brady gangsterm...       0   \n",
       "18  Malaysia Airlines Flight 370 that Disappeared ...       1   \n",
       "19  People are finally panicking about cable TV ht...       0   \n",
       "\n",
       "    predicted_target                                    model_reasoning  \n",
       "0                  0  The tweet does not provide specific details or...  \n",
       "1                  0  The tweet describes a personal inconvenience r...  \n",
       "2                  0  The tweet does not describe a real disaster. I...  \n",
       "3                  0  The tweet does not mention any indication of a...  \n",
       "4                  0  The tweet does not describe a real disaster bu...  \n",
       "5                  0  The tweet does not describe a real disaster bu...  \n",
       "6                  0  The tweet does not mention any indication of a...  \n",
       "7                  0  The tweet describes a user experience issue wi...  \n",
       "8                  0  The tweet does not describe a real disaster bu...  \n",
       "9                  0  The tweet does not describe a real disaster bu...  \n",
       "10                 1  The tweet mentions a cop pulling a man from a ...  \n",
       "11                 1  The tweet describes a sinking ship, which is a...  \n",
       "12                 0  The tweet does not describe a real disaster bu...  \n",
       "13                 0  The tweet does not describe a real disaster bu...  \n",
       "14                 0  The tweet does not mention any real disaster o...  \n",
       "15                 1  The tweet describes a woman being electrocuted...  \n",
       "16                 0  The tweet mentions tornadoes, floods, and clim...  \n",
       "17                 0  The tweet does not describe a real disaster bu...  \n",
       "18                 1  The tweet describes the discovery of debris fr...  \n",
       "19                 0  The tweet does not describe a real disaster bu...  "
      ]
     },
     "execution_count": 65,
     "metadata": {},
     "output_type": "execute_result"
    }
   ],
   "source": [
    "df.head(20)"
   ]
  },
  {
   "cell_type": "markdown",
   "id": "9bcacaf8",
   "metadata": {},
   "source": [
    "**Measuring accuracy**"
   ]
  },
  {
   "cell_type": "code",
   "execution_count": 70,
   "id": "26692d1b",
   "metadata": {},
   "outputs": [
    {
     "name": "stdout",
     "output_type": "stream",
     "text": [
      "              precision    recall  f1-score   support\n",
      "\n",
      "           0       0.69      0.85      0.76        13\n",
      "           1       0.50      0.29      0.36         7\n",
      "\n",
      "    accuracy                           0.65        20\n",
      "   macro avg       0.59      0.57      0.56        20\n",
      "weighted avg       0.62      0.65      0.62        20\n",
      "\n"
     ]
    }
   ],
   "source": [
    "from sklearn.metrics import classification_report\n",
    "\n",
    "print(classification_report(df[\"target\"], df[\"predicted_target\"]))"
   ]
  },
  {
   "cell_type": "markdown",
   "id": "28632a06",
   "metadata": {},
   "source": [
    "--- \n",
    "\n",
    "## **The Importance of Framing the Right Question**\n",
    "\n",
    "One of the most critical and often overlooked steps in any data science project is defining the question. At first glance, the goal in this task might seem simple: \"classify whether a tweet describes a real disaster.\" But what is a real disaster? The lack of a precise definition can lead to vastly different interpretations among labelers, models, and users.\n",
    "\n",
    "In the example above, we see multiple cases where the model disagrees with the original labels. This isn't necessarily because the model is weak, but because the target concept is ambiguous. Tweets that mention crime, sarcasm, metaphor, or historical events might have been labeled as disasters (`target = 1`) without a consistent rationale. \n",
    "\n",
    "The competition guidelines do not state clearly what counts as a real disaster. That leaves it up to us to figure it out, and every second person might interpret it differently. This subjectivity has always been a challenge in human-labeled data, but with the rise of system prompts and large language models, the problem becomes even more sensitive: the prompt you give effectively defines the task the model believes it's solving.\n",
    "\n",
    "If the question isn't framed clearly, such as \"What exactly do we want the model to learn and predict?\", then the entire pipeline, from labeling to model training and evaluation, becomes misaligned.\n",
    "\n",
    "In short, **data science is not just about models, it is about asking the right question**. Without this clarity, we risk optimizing a model toward the wrong objective.\n"
   ]
  },
  {
   "cell_type": "markdown",
   "id": "64db71dd",
   "metadata": {},
   "source": [
    "---\n",
    "\n",
    "## *Bonus:* **The Pitfalls of Heuristic Labeling**\n",
    "\n",
    "Another key issue comes from how the dataset was likely constructed, using automatic labeling through heuristics. This might involve using keywords, regexes, or rules like “if a tweet mentions ‘fire’ or ‘police’, it's a disaster.” While efficient, this process can introduce a lot of noise. Many tweets that contain triggering words like “explosion,” “panic,” or “evacuate” might be metaphors, jokes, or figurative speech, not real emergencies.\n",
    "\n",
    "When models are trained on this kind of noisy supervision, several problems appear:\n",
    "\n",
    "- The model learns to **correlate surface-level patterns** with the label instead of understanding the actual concept.\n",
    "- It struggles to **generalize** beyond the training data, possibly missing actual disasters just because they do not contain a keyword.\n",
    "- Performance metrics like **accuracy become unreliable**, since a high score might reflect agreement with noisy labels, not actual correctness.\n",
    "\n",
    "This is a classic example of **\"garbage in, garbage out\"** in machine learning. Good models require good data, and that starts with **carefully defined labels based on a clearly framed question**.\n"
   ]
  }
 ],
 "metadata": {
  "kernelspec": {
   "display_name": "lang",
   "language": "python",
   "name": "python3"
  },
  "language_info": {
   "codemirror_mode": {
    "name": "ipython",
    "version": 3
   },
   "file_extension": ".py",
   "mimetype": "text/x-python",
   "name": "python",
   "nbconvert_exporter": "python",
   "pygments_lexer": "ipython3",
   "version": "3.11.13"
  }
 },
 "nbformat": 4,
 "nbformat_minor": 5
}
