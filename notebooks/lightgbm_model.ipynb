{
 "cells": [
  {
   "cell_type": "markdown",
   "id": "28a9eb34",
   "metadata": {},
   "source": [
    "# Fast & Smart: Training and Tuning LightGBM"
   ]
  },
  {
   "cell_type": "markdown",
   "id": "9cad76c5",
   "metadata": {},
   "source": [
    " ### 📄 Table of Contents\n",
    "\n",
    "1. [LightGBM in a Nutshell](#lightgbm-in-a-nutshell)  \n",
    "2. [Model Implementation and Optimization](#model-implementation-and-optimization)  \n",
    "   - [Load Dataset](#load-dataset)  \n",
    "   - [Training a Baseline LightGBM Classifier](#training-a-baseline-lightgbm-classifier)\n",
    "   - [Evaluating the Baseline Model](#evaluating-the-baseline-model)  \n",
    "   - [Optimizing LightGBM with Optuna](#optimizing-lightgbm-with-optuna)\n",
    "   - [Training the Final Model with Optuna Parameters](#training-the-final-model-with-optuna-parameters)\n",
    "3. [Benchmarking LightGBM vs XGBoost](#benchmarking-lightgbm-vs-xgboost)  \n",
    "   - [Training Time Comparison](#training-time-comparison)  \n",
    "   - [Accuracy Comparison](#accuracy-comparison)"
   ]
  },
  {
   "cell_type": "markdown",
   "id": "9a44f0f4",
   "metadata": {},
   "source": [
    "--- \n",
    "<a id=\"lightgbm-in-a-nutshell\"></a> \n",
    " \n",
    "## 🌰 LightGBM in a nutshell\n",
    "\n",
    "**LightGBM** (Light Gradient Boosting Machine) is a high-performance implementation of Gradient Boosting Decision Trees (GBDT), developed by **[Microsoft](https://lightgbm.readthedocs.io/en/stable/)**.\n",
    "\n",
    "It is specifically designed for **speed, memory efficiency, and scalability** when working with **large-scale tabular datasets**.\n",
    "\n",
    "Compared to other boosting libraries like XGBoost, LightGBM is typically **faster**, uses **less memory**, and can provide **equal or better predictive performance**.\n",
    "\n",
    "#### **Core Characteristics**\n",
    "\n",
    "- **Gradient Boosting Framework** \n",
    "  LightGBM is based on the boosting principle, where multiple weak learners (typically shallow decision trees) are trained sequentially to correct the errors of the previous ones. The final prediction is a weighted sum of all individual models.\n",
    "\n",
    "- **Leaf-wise Tree Growth**  \n",
    "  Unlike level-wise algorithms (e.g., XGBoost), LightGBM grows trees **leaf-wise**, meaning at each step, it splits the leaf with the **highest loss reduction (gain)**, rather than growing all leaves at the same depth. This usually leads to **deeper and more accurate trees**, but may risk overfitting if not regularized.\n",
    "\n",
    "- **Histogram-based Splitting**  \n",
    "  LightGBM builds histograms to bucket continuous feature values. This reduces the number of possible split points, leading to:\n",
    "  - Faster training  \n",
    "  - Lower memory usage  \n",
    "  - Better handling of high-cardinality data\n",
    "\n",
    "- **Native Categorical Feature Support**  \n",
    "  LightGBM can directly handle **categorical variables** without one-hot encoding. It learns the **best way to split** those categories based on their contribution to prediction.\n",
    "- **GPU Support**  \n",
    "  Training can be accelerated significantly on large datasets using GPUs.\n",
    "\n",
    "#### **When Should You Use LightGBM?**\n",
    "\n",
    "Use LightGBM when:\n",
    "\n",
    "- Your data is **tabular** (structured, rows × columns)\n",
    "- You need **high predictive accuracy**\n",
    "- You care about **training speed and memory efficiency**\n",
    "- You want to **handle categorical variables** without complex preprocessing\n"
   ]
  },
  {
   "cell_type": "markdown",
   "id": "293e06f8",
   "metadata": {},
   "source": [
    "----\n",
    "<a id=\"model-implementation-and-optimization\"></a> \n",
    "\n",
    "## 💡 Model Implementation and Optimization\n",
    "\n",
    "To demonstrate how LightGBM works in practice, we’ll use a well-known benchmark dataset: the Breast Cancer Wisconsin dataset. It is included in `scikit-learn` and contains features computed from digitized images of breast mass biopsies.\n",
    "\n",
    "This dataset is commonly used for binary classification tasks. The target variable indicates whether a tumor is malignant or benign.\n",
    "\n",
    "We’ll walk through:\n",
    "- Loading and inspecting the dataset\n",
    "- Building a baseline LightGBM model\n",
    "- Tuning it with Optuna\n",
    "- Evaluating performance on a held-out test set\n",
    "- Training time and predictive performance against XGBoost\n",
    "\n",
    "While this is a small dataset, it allows us to focus on methodology rather than computational constraints."
   ]
  },
  {
   "cell_type": "markdown",
   "id": "0575bcf5",
   "metadata": {},
   "source": [
    "#### Setup\n",
    "Import required dependencies"
   ]
  },
  {
   "cell_type": "code",
   "execution_count": null,
   "id": "e15c403d",
   "metadata": {},
   "outputs": [],
   "source": [
    "# !pip install lightgbm optuna scikit-learn matplotlib seaborn --quiet"
   ]
  },
  {
   "cell_type": "markdown",
   "id": "80c10dcc",
   "metadata": {},
   "source": [
    "#### Load Dataset\n",
    "\n",
    "The Breat Cancer Prediciton dataset comes from the University of Wisconsin Hospitals and is commonly used for binary classification tasks.\n",
    "\n",
    "It contains features extracted from images of breast tissue, with the goal of classifying tumors as **benign** or **malignant**.\n",
    "\n",
    "🔗 [Dataset on Kaggle](https://www.kaggle.com/datasets/merishnasuwal/breast-cancer-prediction-dataset)"
   ]
  },
  {
   "cell_type": "code",
   "execution_count": 4,
   "id": "0f67aecf",
   "metadata": {},
   "outputs": [
    {
     "data": {
      "application/vnd.microsoft.datawrangler.viewer.v0+json": {
       "columns": [
        {
         "name": "index",
         "rawType": "int64",
         "type": "integer"
        },
        {
         "name": "mean_radius",
         "rawType": "float64",
         "type": "float"
        },
        {
         "name": "mean_texture",
         "rawType": "float64",
         "type": "float"
        },
        {
         "name": "mean_perimeter",
         "rawType": "float64",
         "type": "float"
        },
        {
         "name": "mean_area",
         "rawType": "float64",
         "type": "float"
        },
        {
         "name": "mean_smoothness",
         "rawType": "float64",
         "type": "float"
        }
       ],
       "ref": "ebcf68d7-9cbd-486f-9757-7c6ce6c648c9",
       "rows": [
        [
         "0",
         "17.99",
         "10.38",
         "122.8",
         "1001.0",
         "0.1184"
        ],
        [
         "1",
         "20.57",
         "17.77",
         "132.9",
         "1326.0",
         "0.08474"
        ],
        [
         "2",
         "19.69",
         "21.25",
         "130.0",
         "1203.0",
         "0.1096"
        ],
        [
         "3",
         "11.42",
         "20.38",
         "77.58",
         "386.1",
         "0.1425"
        ],
        [
         "4",
         "20.29",
         "14.34",
         "135.1",
         "1297.0",
         "0.1003"
        ]
       ],
       "shape": {
        "columns": 5,
        "rows": 5
       }
      },
      "text/html": [
       "<div>\n",
       "<style scoped>\n",
       "    .dataframe tbody tr th:only-of-type {\n",
       "        vertical-align: middle;\n",
       "    }\n",
       "\n",
       "    .dataframe tbody tr th {\n",
       "        vertical-align: top;\n",
       "    }\n",
       "\n",
       "    .dataframe thead th {\n",
       "        text-align: right;\n",
       "    }\n",
       "</style>\n",
       "<table border=\"1\" class=\"dataframe\">\n",
       "  <thead>\n",
       "    <tr style=\"text-align: right;\">\n",
       "      <th></th>\n",
       "      <th>mean_radius</th>\n",
       "      <th>mean_texture</th>\n",
       "      <th>mean_perimeter</th>\n",
       "      <th>mean_area</th>\n",
       "      <th>mean_smoothness</th>\n",
       "    </tr>\n",
       "  </thead>\n",
       "  <tbody>\n",
       "    <tr>\n",
       "      <th>0</th>\n",
       "      <td>17.99</td>\n",
       "      <td>10.38</td>\n",
       "      <td>122.80</td>\n",
       "      <td>1001.0</td>\n",
       "      <td>0.11840</td>\n",
       "    </tr>\n",
       "    <tr>\n",
       "      <th>1</th>\n",
       "      <td>20.57</td>\n",
       "      <td>17.77</td>\n",
       "      <td>132.90</td>\n",
       "      <td>1326.0</td>\n",
       "      <td>0.08474</td>\n",
       "    </tr>\n",
       "    <tr>\n",
       "      <th>2</th>\n",
       "      <td>19.69</td>\n",
       "      <td>21.25</td>\n",
       "      <td>130.00</td>\n",
       "      <td>1203.0</td>\n",
       "      <td>0.10960</td>\n",
       "    </tr>\n",
       "    <tr>\n",
       "      <th>3</th>\n",
       "      <td>11.42</td>\n",
       "      <td>20.38</td>\n",
       "      <td>77.58</td>\n",
       "      <td>386.1</td>\n",
       "      <td>0.14250</td>\n",
       "    </tr>\n",
       "    <tr>\n",
       "      <th>4</th>\n",
       "      <td>20.29</td>\n",
       "      <td>14.34</td>\n",
       "      <td>135.10</td>\n",
       "      <td>1297.0</td>\n",
       "      <td>0.10030</td>\n",
       "    </tr>\n",
       "  </tbody>\n",
       "</table>\n",
       "</div>"
      ],
      "text/plain": [
       "   mean_radius  mean_texture  mean_perimeter  mean_area  mean_smoothness\n",
       "0        17.99         10.38          122.80     1001.0          0.11840\n",
       "1        20.57         17.77          132.90     1326.0          0.08474\n",
       "2        19.69         21.25          130.00     1203.0          0.10960\n",
       "3        11.42         20.38           77.58      386.1          0.14250\n",
       "4        20.29         14.34          135.10     1297.0          0.10030"
      ]
     },
     "execution_count": 4,
     "metadata": {},
     "output_type": "execute_result"
    }
   ],
   "source": [
    "import os\n",
    "import pandas as pd\n",
    "from sklearn.datasets import load_breast_cancer\n",
    "\n",
    "# Load dataset\n",
    "PATH = os.getcwd()\n",
    "data = pd.read_csv(os.path.join(PATH, \"Breast_cancer_data.xls\"))\n",
    "\n",
    "X = data.drop(\"diagnosis\", axis=1)\n",
    "y = data[\"diagnosis\"]\n",
    "\n",
    "X.head()"
   ]
  },
  {
   "cell_type": "markdown",
   "id": "5eb6fd56",
   "metadata": {},
   "source": [
    "⚠️ *Disclaimer: Data wrangling and EDA are like vegetables — important, but not part of this meal. They're out of scope for now.*"
   ]
  },
  {
   "cell_type": "markdown",
   "id": "e92427da",
   "metadata": {},
   "source": [
    "#### Training a Baseline LightGBM Classifier\n",
    "\n",
    "**Train/test split and basic LightGBM training**\n",
    "\n",
    "Before tuning the model, we establish a performance baseline using default hyperparameters. This allows us to later measure the impact of optimization.\n",
    "\n",
    "We'll start by splitting the data into training and test sets, then train a basic LightGBM classifier.\n"
   ]
  },
  {
   "cell_type": "code",
   "execution_count": 27,
   "id": "7489d523",
   "metadata": {},
   "outputs": [],
   "source": [
    "import time\n",
    "from sklearn.model_selection import train_test_split\n",
    "\n",
    "# Split the data\n",
    "X_train, X_test, y_train, y_test = train_test_split(\n",
    "    X, y, test_size=0.2, random_state=42, stratify=y\n",
    ")\n",
    "\n",
    "import lightgbm as lgb\n",
    "\n",
    "# Create a basic LightGBM model\n",
    "start_time = time.time()\n",
    "\n",
    "model = lgb.LGBMClassifier(random_state=42, verbose=-1)\n",
    "model.fit(X_train, y_train)\n",
    "\n",
    "lgb_time = time.time() - start_time"
   ]
  },
  {
   "cell_type": "markdown",
   "id": "f2ca727e",
   "metadata": {},
   "source": [
    "#### Evaluating the Baseline Model\n",
    "\n",
    "**Assessing classification performance with a confusion matrix and detailed metrics**\n",
    "\n",
    "Accuracy alone doesn't tell the full story, especially in imbalanced or high-stakes classification tasks. We’ll use the confusion matrix and classification report to gain a more complete picture of the model's behavior."
   ]
  },
  {
   "cell_type": "code",
   "execution_count": 7,
   "id": "78b6f104",
   "metadata": {},
   "outputs": [
    {
     "data": {
      "image/png": "[encoded data removed]",
      "text/plain": [
       "<Figure size 500x400 with 1 Axes>"
      ]
     },
     "metadata": {},
     "output_type": "display_data"
    },
    {
     "name": "stdout",
     "output_type": "stream",
     "text": [
      "Classification Report:\n",
      "\n",
      "              precision    recall  f1-score   support\n",
      "\n",
      "           0       0.80      0.93      0.86        42\n",
      "           1       0.95      0.86      0.91        72\n",
      "\n",
      "    accuracy                           0.89       114\n",
      "   macro avg       0.87      0.89      0.88       114\n",
      "weighted avg       0.90      0.89      0.89       114\n",
      "\n"
     ]
    }
   ],
   "source": [
    "from sklearn.metrics import confusion_matrix, classification_report\n",
    "import seaborn as sns\n",
    "import matplotlib.pyplot as plt\n",
    "\n",
    "# Predict on the test set\n",
    "y_pred = model.predict(X_test)\n",
    "\n",
    "# Confusion matrix\n",
    "cm = confusion_matrix(y_test, y_pred)\n",
    "\n",
    "plt.figure(figsize=(5, 4))\n",
    "sns.heatmap(cm, annot=True, fmt=\"d\", cmap=\"Blues\", cbar=False)\n",
    "plt.xlabel(\"Predicted label\")\n",
    "plt.ylabel(\"True label\")\n",
    "plt.title(\"Confusion Matrix\")\n",
    "plt.tight_layout()\n",
    "plt.show()\n",
    "\n",
    "# Classification report\n",
    "print(\"Classification Report:\\n\")\n",
    "print(classification_report(y_test, y_pred))\n"
   ]
  },
  {
   "cell_type": "markdown",
   "id": "d9fe8604",
   "metadata": {},
   "source": [
    "#### Optimizing LightGBM with Optuna\n",
    "\n",
    "**Why tune hyperparameters?**\n",
    "\n",
    "The performance of gradient boosting models is highly sensitive to their hyperparameters. Manually tuning them is time-consuming and inefficient.\n",
    "\n",
    "**Why use Optuna?**\n",
    "\n",
    "[Optuna](https://optuna.org/) is a state-of-the-art optimization framework that uses techniques like **Bayesian optimization**, **early stopping (pruning)**, and **parallel search** to efficiently find good hyperparameter configurations.\n",
    "\n",
    "We’ll define an objective function that trains a LightGBM model with a given set of hyperparameters, evaluates it using cross-validation, and returns a metric to be maximized.\n"
   ]
  },
  {
   "cell_type": "code",
   "execution_count": 8,
   "id": "48d6e25b",
   "metadata": {},
   "outputs": [
    {
     "name": "stderr",
     "output_type": "stream",
     "text": [
      "c:\\Users\\acarballo\\anaconda3\\envs\\mlenv\\lib\\site-packages\\tqdm\\auto.py:21: TqdmWarning: IProgress not found. Please update jupyter and ipywidgets. See https://ipywidgets.readthedocs.io/en/stable/user_install.html\n",
      "  from .autonotebook import tqdm as notebook_tqdm\n",
      "[I 2025-07-15 19:30:01,654] A new study created in memory with name: no-name-7e1b0cd9-cf48-4bba-af4c-eef46d180301\n",
      "[I 2025-07-15 19:30:01,775] Trial 0 finished with value: 0.8351648351648352 and parameters: {'learning_rate': 0.0028091346771931306, 'num_leaves': 128, 'max_depth': 7, 'min_child_samples': 48, 'subsample': 0.5929090079190025, 'colsample_bytree': 0.9079533065483945, 'reg_alpha': 0.2906470615163148, 'reg_lambda': 0.0011326300108212273}. Best is trial 0 with value: 0.8351648351648352.\n",
      "[I 2025-07-15 19:30:01,913] Trial 1 finished with value: 0.6263736263736264 and parameters: {'learning_rate': 0.0018526777925212611, 'num_leaves': 134, 'max_depth': 10, 'min_child_samples': 26, 'subsample': 0.996081617171345, 'colsample_bytree': 0.947233085084409, 'reg_alpha': 0.0149380256416544, 'reg_lambda': 0.004859958255228797}. Best is trial 0 with value: 0.8351648351648352.\n",
      "[I 2025-07-15 19:30:02,021] Trial 2 finished with value: 0.6263736263736264 and parameters: {'learning_rate': 0.0012775643403437635, 'num_leaves': 127, 'max_depth': 4, 'min_child_samples': 30, 'subsample': 0.6023205889126104, 'colsample_bytree': 0.9994321978090766, 'reg_alpha': 1.570325919844752, 'reg_lambda': 0.0038820817323120056}. Best is trial 0 with value: 0.8351648351648352.\n",
      "[I 2025-07-15 19:30:02,187] Trial 3 finished with value: 0.9054945054945055 and parameters: {'learning_rate': 0.15552868706377218, 'num_leaves': 37, 'max_depth': 12, 'min_child_samples': 14, 'subsample': 0.7924394438567932, 'colsample_bytree': 0.6793672215000244, 'reg_alpha': 0.15315203802311406, 'reg_lambda': 0.0018969405996228446}. Best is trial 3 with value: 0.9054945054945055.\n",
      "[I 2025-07-15 19:30:02,312] Trial 4 finished with value: 0.8813186813186814 and parameters: {'learning_rate': 0.0040021290183449, 'num_leaves': 33, 'max_depth': 3, 'min_child_samples': 28, 'subsample': 0.5810052376212422, 'colsample_bytree': 0.7875020846487133, 'reg_alpha': 0.0035650566935543655, 'reg_lambda': 0.0020640892085224257}. Best is trial 3 with value: 0.9054945054945055.\n",
      "[I 2025-07-15 19:30:02,462] Trial 5 finished with value: 0.9208791208791209 and parameters: {'learning_rate': 0.034908547205892766, 'num_leaves': 54, 'max_depth': 7, 'min_child_samples': 21, 'subsample': 0.6740053668960043, 'colsample_bytree': 0.894701116130397, 'reg_alpha': 0.06951786493219206, 'reg_lambda': 0.053780203221039866}. Best is trial 5 with value: 0.9208791208791209.\n",
      "[I 2025-07-15 19:30:02,563] Trial 6 finished with value: 0.8901098901098902 and parameters: {'learning_rate': 0.009435524122618817, 'num_leaves': 107, 'max_depth': 3, 'min_child_samples': 24, 'subsample': 0.9584313118155379, 'colsample_bytree': 0.6188088205849362, 'reg_alpha': 0.022223896476555375, 'reg_lambda': 1.0763860788325992}. Best is trial 5 with value: 0.9208791208791209.\n",
      "[I 2025-07-15 19:30:02,751] Trial 7 finished with value: 0.9164835164835164 and parameters: {'learning_rate': 0.06422577715068829, 'num_leaves': 126, 'max_depth': 7, 'min_child_samples': 34, 'subsample': 0.8259303727850833, 'colsample_bytree': 0.7768977729385524, 'reg_alpha': 0.004648616319201227, 'reg_lambda': 0.03060182004237367}. Best is trial 5 with value: 0.9208791208791209.\n",
      "[I 2025-07-15 19:30:02,865] Trial 8 finished with value: 0.8659340659340661 and parameters: {'learning_rate': 0.0031536240014395146, 'num_leaves': 84, 'max_depth': 6, 'min_child_samples': 23, 'subsample': 0.8090458296053866, 'colsample_bytree': 0.8268030635924248, 'reg_alpha': 2.2997208111244345, 'reg_lambda': 1.0499072063250263}. Best is trial 5 with value: 0.9208791208791209.\n",
      "[I 2025-07-15 19:30:03,002] Trial 9 finished with value: 0.6263736263736264 and parameters: {'learning_rate': 0.0012861900601632485, 'num_leaves': 89, 'max_depth': 10, 'min_child_samples': 33, 'subsample': 0.6880559559679953, 'colsample_bytree': 0.7419553208167091, 'reg_alpha': 0.03701628848501029, 'reg_lambda': 0.010114606797901625}. Best is trial 5 with value: 0.9208791208791209.\n",
      "[I 2025-07-15 19:30:03,165] Trial 10 finished with value: 0.90989010989011 and parameters: {'learning_rate': 0.03210568992280198, 'num_leaves': 58, 'max_depth': 9, 'min_child_samples': 6, 'subsample': 0.5008473074738944, 'colsample_bytree': 0.5530490652551732, 'reg_alpha': 9.68623662525266, 'reg_lambda': 0.14067765069968174}. Best is trial 5 with value: 0.9208791208791209.\n",
      "[I 2025-07-15 19:30:03,351] Trial 11 finished with value: 0.9208791208791208 and parameters: {'learning_rate': 0.05433995141051405, 'num_leaves': 64, 'max_depth': 6, 'min_child_samples': 39, 'subsample': 0.8488708950579864, 'colsample_bytree': 0.8521115566547421, 'reg_alpha': 0.0018750191975243043, 'reg_lambda': 0.04891515410586385}. Best is trial 5 with value: 0.9208791208791209.\n",
      "[I 2025-07-15 19:30:03,540] Trial 12 finished with value: 0.9032967032967033 and parameters: {'learning_rate': 0.26040543061507343, 'num_leaves': 60, 'max_depth': 6, 'min_child_samples': 42, 'subsample': 0.9058544973385753, 'colsample_bytree': 0.8732855783668249, 'reg_alpha': 0.0010007472678332963, 'reg_lambda': 0.1456214422762875}. Best is trial 5 with value: 0.9208791208791209.\n",
      "[I 2025-07-15 19:30:03,752] Trial 13 finished with value: 0.9164835164835166 and parameters: {'learning_rate': 0.02164455038115309, 'num_leaves': 62, 'max_depth': 5, 'min_child_samples': 39, 'subsample': 0.7062789168403901, 'colsample_bytree': 0.8649800682430453, 'reg_alpha': 0.00128993731692119, 'reg_lambda': 0.04339866858112834}. Best is trial 5 with value: 0.9208791208791209.\n",
      "[I 2025-07-15 19:30:03,944] Trial 14 finished with value: 0.9120879120879121 and parameters: {'learning_rate': 0.06080187340891764, 'num_leaves': 22, 'max_depth': 8, 'min_child_samples': 20, 'subsample': 0.8804453988388199, 'colsample_bytree': 0.9463628204212637, 'reg_alpha': 0.49696275702460646, 'reg_lambda': 0.3831594841776385}. Best is trial 5 with value: 0.9208791208791209.\n",
      "[I 2025-07-15 19:30:04,144] Trial 15 finished with value: 0.8967032967032967 and parameters: {'learning_rate': 0.008364969602083385, 'num_leaves': 79, 'max_depth': 5, 'min_child_samples': 15, 'subsample': 0.7274444153224406, 'colsample_bytree': 0.7187171743086624, 'reg_alpha': 0.049641378000260764, 'reg_lambda': 0.021330588496686908}. Best is trial 5 with value: 0.9208791208791209.\n",
      "[I 2025-07-15 19:30:04,299] Trial 16 finished with value: 0.9274725274725275 and parameters: {'learning_rate': 0.06909874116289011, 'num_leaves': 46, 'max_depth': 9, 'min_child_samples': 49, 'subsample': 0.6590773080706533, 'colsample_bytree': 0.8408337058312111, 'reg_alpha': 0.011107941755123519, 'reg_lambda': 8.272755547695976}. Best is trial 16 with value: 0.9274725274725275.\n",
      "[I 2025-07-15 19:30:04,459] Trial 17 finished with value: 0.9296703296703297 and parameters: {'learning_rate': 0.11117611128306479, 'num_leaves': 43, 'max_depth': 12, 'min_child_samples': 49, 'subsample': 0.6440095131020271, 'colsample_bytree': 0.9817449017017511, 'reg_alpha': 0.01001214167893605, 'reg_lambda': 9.032205405184754}. Best is trial 17 with value: 0.9296703296703297.\n",
      "[I 2025-07-15 19:30:04,627] Trial 18 finished with value: 0.9296703296703297 and parameters: {'learning_rate': 0.11693878062956704, 'num_leaves': 41, 'max_depth': 12, 'min_child_samples': 50, 'subsample': 0.6378333343085641, 'colsample_bytree': 0.9993631528934727, 'reg_alpha': 0.009469895219902191, 'reg_lambda': 8.935012179357999}. Best is trial 17 with value: 0.9296703296703297.\n",
      "[I 2025-07-15 19:30:04,788] Trial 19 finished with value: 0.9296703296703297 and parameters: {'learning_rate': 0.14229628768390978, 'num_leaves': 32, 'max_depth': 12, 'min_child_samples': 45, 'subsample': 0.5456631178425089, 'colsample_bytree': 0.9702239799301541, 'reg_alpha': 0.006813050542590431, 'reg_lambda': 8.151575842812088}. Best is trial 17 with value: 0.9296703296703297.\n",
      "[I 2025-07-15 19:30:04,955] Trial 20 finished with value: 0.9120879120879122 and parameters: {'learning_rate': 0.12251120065516835, 'num_leaves': 21, 'max_depth': 11, 'min_child_samples': 43, 'subsample': 0.6265937615803542, 'colsample_bytree': 0.9857761908550027, 'reg_alpha': 0.003192267646971994, 'reg_lambda': 1.9032560155823504}. Best is trial 17 with value: 0.9296703296703297.\n",
      "[I 2025-07-15 19:30:05,125] Trial 21 finished with value: 0.9142857142857143 and parameters: {'learning_rate': 0.2837653784003767, 'num_leaves': 38, 'max_depth': 12, 'min_child_samples': 50, 'subsample': 0.529046789612931, 'colsample_bytree': 0.9433204405464368, 'reg_alpha': 0.00795968592270426, 'reg_lambda': 9.763572450221863}. Best is trial 17 with value: 0.9296703296703297.\n",
      "[I 2025-07-15 19:30:05,297] Trial 22 finished with value: 0.9186813186813187 and parameters: {'learning_rate': 0.15057358743379093, 'num_leaves': 150, 'max_depth': 11, 'min_child_samples': 45, 'subsample': 0.5512320079496533, 'colsample_bytree': 0.9949021029677612, 'reg_alpha': 0.007119124996087693, 'reg_lambda': 3.4691097135205418}. Best is trial 17 with value: 0.9296703296703297.\n",
      "[I 2025-07-15 19:30:05,478] Trial 23 finished with value: 0.9230769230769231 and parameters: {'learning_rate': 0.12309362121622447, 'num_leaves': 48, 'max_depth': 12, 'min_child_samples': 46, 'subsample': 0.6373429204222144, 'colsample_bytree': 0.92085748459742, 'reg_alpha': 0.023535410276510734, 'reg_lambda': 3.883524834769469}. Best is trial 17 with value: 0.9296703296703297.\n",
      "[I 2025-07-15 19:30:05,642] Trial 24 finished with value: 0.9186813186813187 and parameters: {'learning_rate': 0.10336936742010916, 'num_leaves': 75, 'max_depth': 11, 'min_child_samples': 39, 'subsample': 0.7711488876103528, 'colsample_bytree': 0.9755726752863986, 'reg_alpha': 0.10687095764970346, 'reg_lambda': 4.238762866801164}. Best is trial 17 with value: 0.9296703296703297.\n",
      "[I 2025-07-15 19:30:05,801] Trial 25 finished with value: 0.9120879120879121 and parameters: {'learning_rate': 0.20893520798198714, 'num_leaves': 29, 'max_depth': 10, 'min_child_samples': 50, 'subsample': 0.5624639632558879, 'colsample_bytree': 0.9470192592215877, 'reg_alpha': 0.003223236767131622, 'reg_lambda': 0.7205094332991595}. Best is trial 17 with value: 0.9296703296703297.\n",
      "[I 2025-07-15 19:30:05,969] Trial 26 finished with value: 0.9164835164835164 and parameters: {'learning_rate': 0.08530029293347262, 'num_leaves': 44, 'max_depth': 12, 'min_child_samples': 43, 'subsample': 0.7417432028383065, 'colsample_bytree': 0.5143864166474865, 'reg_alpha': 0.022580415530736545, 'reg_lambda': 0.32047613745448456}. Best is trial 17 with value: 0.9296703296703297.\n",
      "[I 2025-07-15 19:30:06,142] Trial 27 finished with value: 0.9230769230769231 and parameters: {'learning_rate': 0.0430574054281604, 'num_leaves': 99, 'max_depth': 11, 'min_child_samples': 35, 'subsample': 0.6262094491881323, 'colsample_bytree': 0.9050089523988819, 'reg_alpha': 0.006858252647827491, 'reg_lambda': 6.18172827711097}. Best is trial 17 with value: 0.9296703296703297.\n",
      "[I 2025-07-15 19:30:06,306] Trial 28 finished with value: 0.9164835164835166 and parameters: {'learning_rate': 0.02471049290797011, 'num_leaves': 70, 'max_depth': 9, 'min_child_samples': 46, 'subsample': 0.5020353612401761, 'colsample_bytree': 0.8024803737034145, 'reg_alpha': 0.015387833436500561, 'reg_lambda': 2.172226766444251}. Best is trial 17 with value: 0.9296703296703297.\n",
      "[I 2025-07-15 19:30:06,490] Trial 29 finished with value: 0.8967032967032967 and parameters: {'learning_rate': 0.013150269210737874, 'num_leaves': 29, 'max_depth': 12, 'min_child_samples': 46, 'subsample': 0.6108073654984194, 'colsample_bytree': 0.8993464825342867, 'reg_alpha': 0.2608793294646873, 'reg_lambda': 2.73363276816875}. Best is trial 17 with value: 0.9296703296703297.\n"
     ]
    },
    {
     "name": "stdout",
     "output_type": "stream",
     "text": [
      "Best parameters: {'learning_rate': 0.11117611128306479, 'num_leaves': 43, 'max_depth': 12, 'min_child_samples': 49, 'subsample': 0.6440095131020271, 'colsample_bytree': 0.9817449017017511, 'reg_alpha': 0.01001214167893605, 'reg_lambda': 9.032205405184754}\n"
     ]
    }
   ],
   "source": [
    "import optuna\n",
    "from sklearn.model_selection import cross_val_score\n",
    "from sklearn.model_selection import StratifiedKFold\n",
    "\n",
    "def objective(trial):\n",
    "    param_grid = {\n",
    "        \"learning_rate\": trial.suggest_float(\"learning_rate\", 1e-3, 0.3, log=True),\n",
    "        \"num_leaves\": trial.suggest_int(\"num_leaves\", 20, 150),\n",
    "        \"max_depth\": trial.suggest_int(\"max_depth\", 3, 12),\n",
    "        \"min_child_samples\": trial.suggest_int(\"min_child_samples\", 5, 50),\n",
    "        \"subsample\": trial.suggest_float(\"subsample\", 0.5, 1.0),\n",
    "        \"colsample_bytree\": trial.suggest_float(\"colsample_bytree\", 0.5, 1.0),\n",
    "        \"reg_alpha\": trial.suggest_float(\"reg_alpha\", 1e-3, 10.0, log=True),\n",
    "        \"reg_lambda\": trial.suggest_float(\"reg_lambda\", 1e-3, 10.0, log=True),\n",
    "    }\n",
    "\n",
    "    model = lgb.LGBMClassifier(\n",
    "        n_estimators=100,\n",
    "        random_state=42,\n",
    "        verbose=-1,\n",
    "        **param_grid\n",
    "    )\n",
    "\n",
    "    cv = StratifiedKFold(n_splits=5, shuffle=True, random_state=42)\n",
    "    scores = cross_val_score(model, X_train, y_train, cv=cv, scoring=\"accuracy\")\n",
    "    return scores.mean()\n",
    "\n",
    "# Run the optimization\n",
    "study = optuna.create_study(direction=\"maximize\")\n",
    "study.optimize(objective, n_trials=30, timeout=300)\n",
    "\n",
    "# Get the best parameters\n",
    "best_params = study.best_params\n",
    "print(\"Best parameters:\", best_params)"
   ]
  },
  {
   "cell_type": "markdown",
   "id": "13cb308d",
   "metadata": {},
   "source": [
    "#### Training the Final Model with Optuna Parameters\n",
    "\n",
    "**Retraining with the optimal configuration**\n",
    "\n",
    "Now that we have a set of tuned hyperparameters, we retrain the model on the full training set and evaluate its performance on the test set.\n"
   ]
  },
  {
   "cell_type": "code",
   "execution_count": 10,
   "id": "67e08ea7",
   "metadata": {},
   "outputs": [
    {
     "data": {
      "image/png": "[encoded data removed]",
      "text/plain": [
       "<Figure size 500x400 with 1 Axes>"
      ]
     },
     "metadata": {},
     "output_type": "display_data"
    },
    {
     "name": "stdout",
     "output_type": "stream",
     "text": [
      "Optimized Classification Report:\n",
      "\n",
      "              precision    recall  f1-score   support\n",
      "\n",
      "           0       0.84      0.90      0.87        42\n",
      "           1       0.94      0.90      0.92        72\n",
      "\n",
      "    accuracy                           0.90       114\n",
      "   macro avg       0.89      0.90      0.90       114\n",
      "weighted avg       0.91      0.90      0.90       114\n",
      "\n"
     ]
    }
   ],
   "source": [
    "# Retrieve best parameters\n",
    "best_params = study.best_params\n",
    "\n",
    "# Add fixed parameters\n",
    "best_params.update({\n",
    "    \"n_estimators\": 100,\n",
    "    \"random_state\": 42,\n",
    "    \"verbose\": -1\n",
    "})\n",
    "\n",
    "# Train final model\n",
    "final_model = lgb.LGBMClassifier(**best_params)\n",
    "final_model.fit(X_train, y_train)\n",
    "\n",
    "# Predict and evaluate\n",
    "y_pred_optimized = final_model.predict(X_test)\n",
    "\n",
    "# Confusion matrix and classification report\n",
    "cm_opt = confusion_matrix(y_test, y_pred_optimized)\n",
    "\n",
    "plt.figure(figsize=(5, 4))\n",
    "sns.heatmap(cm_opt, annot=True, fmt=\"d\", cmap=\"Greens\", cbar=False)\n",
    "plt.xlabel(\"Predicted label\")\n",
    "plt.ylabel(\"True label\")\n",
    "plt.title(\"Optimized Model - Confusion Matrix\")\n",
    "plt.tight_layout()\n",
    "plt.show()\n",
    "\n",
    "print(\"Optimized Classification Report:\\n\")\n",
    "print(classification_report(y_test, y_pred_optimized))\n"
   ]
  },
  {
   "cell_type": "markdown",
   "id": "9766d2d3",
   "metadata": {},
   "source": [
    "---\n",
    "<a id=\"benchmarking-lightgbm-vs-xgboost\"></a> \n",
    "\n",
    "## 📊 Benchmarking LightGBM vs XGBoost\n",
    "\n",
    "**LightGBM and XGBoost are two of the most widely used gradient boosting libraries.**\n",
    "\n",
    "Both are optimized implementations of the gradient boosting algorithm and are designed for high-performance modeling on tabular datasets. They are frequently used in data science competitions, real-world machine learning systems, and AutoML frameworks.\n",
    "\n",
    "Although they aim to solve the same type of problems, their internal mechanisms differ:\n",
    "\n",
    "- **LightGBM** uses a **leaf-wise** tree growth strategy and histogram-based feature binning for faster training.\n",
    "- **XGBoost** uses a **level-wise** growth strategy and handles sparse data well, but can be slower.\n",
    "\n",
    "In this notebook, we compare them in two ways:\n",
    "- **Training time**, to assess efficiency.\n",
    "- **Accuracy**, to evaluate predictive performance.\n",
    "\n",
    "This helps us understand not only which model is faster, but whether that speed comes at the cost of accuracy — or if LightGBM can outperform in both aspects.\n"
   ]
  },
  {
   "cell_type": "markdown",
   "id": "3545a951",
   "metadata": {},
   "source": [
    "#### Training Time Comparison\n",
    "\n",
    "**How fast is LightGBM compared to XGBoost?**\n",
    "\n",
    "Both LightGBM and XGBoost are optimized implementations of gradient boosting. However, LightGBM is specifically engineered for speed and memory efficiency.\n",
    "\n",
    "To highlight this, we measured the time each model took to train on the same dataset, with default hyperparameters and identical train/test splits.\n",
    "\n",
    "The chart below shows the training time in seconds. As expected, LightGBM completes training significantly faster while maintaining similar predictive performance.\n",
    "\n",
    "This makes LightGBM a strong choice when working with large datasets or under time/resource constraints.\n"
   ]
  },
  {
   "cell_type": "code",
   "execution_count": null,
   "id": "aad56708",
   "metadata": {},
   "outputs": [],
   "source": [
    "import time\n",
    "import xgboost as xgb\n",
    "from sklearn.metrics import accuracy_score\n",
    "\n",
    "# Train XGBoost model\n",
    "xgb_model = xgb.XGBClassifier(use_label_encoder=False, eval_metric=\"logloss\", random_state=42)\n",
    "\n",
    "start_time = time.time()\n",
    "xgb_model.fit(X_train, y_train)\n",
    "xgb_time = time.time() - start_time\n"
   ]
  },
  {
   "cell_type": "code",
   "execution_count": 31,
   "id": "914a24c1",
   "metadata": {},
   "outputs": [
    {
     "data": {
      "image/png": "[encoded data removed]",
      "text/plain": [
       "<Figure size 600x400 with 1 Axes>"
      ]
     },
     "metadata": {},
     "output_type": "display_data"
    }
   ],
   "source": [
    "import matplotlib.pyplot as plt\n",
    "\n",
    "labels = [\"LightGBM\", \"XGBoost\"]\n",
    "times = [lgb_time, xgb_time]\n",
    "colors = [\"#7FB3D5\", \"#F7DC6F\"]\n",
    "\n",
    "plt.figure(figsize=(6, 4))\n",
    "plt.style.use(\"default\")\n",
    "plt.gca().set_facecolor(\"#f0f0f0\")\n",
    "\n",
    "bars = plt.bar(labels, times, color=colors, edgecolor=\"black\")\n",
    "\n",
    "for bar in bars:\n",
    "    height = bar.get_height()\n",
    "    plt.text(bar.get_x() + bar.get_width() / 2, height + 0.005,\n",
    "             f\"{height:.4f}s\", ha='center', va='bottom', fontsize=10)\n",
    "\n",
    "plt.ylabel(\"Training Time (seconds)\")\n",
    "plt.title(\"Training Time Comparison: LightGBM vs XGBoost\")\n",
    "plt.ylim(0, max(times) * 1.2)\n",
    "plt.grid(axis=\"y\", linestyle=\"--\", alpha=0.5)\n",
    "plt.tight_layout()\n",
    "plt.show()\n"
   ]
  },
  {
   "cell_type": "markdown",
   "id": "54e1c8c5",
   "metadata": {},
   "source": [
    "#### Accuracy Comparison\n",
    "\n",
    "**How do the models perform in terms of prediction accuracy?**\n",
    "\n",
    "While LightGBM is typically faster, it's important to also compare predictive performance. Here we train a basic XGBoost model with default settings and compare its accuracy against the baseline LightGBM model.\n",
    "\n",
    "This helps assess whether there's a trade-off between speed and quality, or if one model dominates on both fronts.\n"
   ]
  },
  {
   "cell_type": "code",
   "execution_count": 32,
   "id": "f11f320d",
   "metadata": {},
   "outputs": [
    {
     "name": "stdout",
     "output_type": "stream",
     "text": [
      "XGBoost Accuracy:   0.8947\n",
      "LightGBM Accuracy:  0.8860\n"
     ]
    }
   ],
   "source": [
    "# Predict and evaluate\n",
    "y_pred_xgb = xgb_model.predict(X_test)\n",
    "xgb_acc = accuracy_score(y_test, y_pred_xgb)\n",
    "\n",
    "# Compare with LightGBM baseline\n",
    "lgb_acc = accuracy_score(y_test, model.predict(X_test))"
   ]
  },
  {
   "cell_type": "code",
   "execution_count": 36,
   "id": "760d616c",
   "metadata": {},
   "outputs": [
    {
     "data": {
      "image/png": "[encoded data removed]",
      "text/plain": [
       "<Figure size 600x400 with 1 Axes>"
      ]
     },
     "metadata": {},
     "output_type": "display_data"
    }
   ],
   "source": [
    "accuracies = [lgb_acc, xgb_acc]\n",
    "labels = [\"LightGBM\", \"XGBoost\"]\n",
    "colors = [\"#7FB3D5\", \"#F7DC6F\"]\n",
    "\n",
    "# Crear gráfico\n",
    "plt.figure(figsize=(6, 4))\n",
    "plt.gca().set_facecolor(\"#f0f0f0\") \n",
    "\n",
    "bars = plt.bar(labels, accuracies, color=colors, edgecolor=\"black\")\n",
    "\n",
    "for bar in bars:\n",
    "    height = bar.get_height()\n",
    "    plt.text(bar.get_x() + bar.get_width() / 2, height + 0.002,\n",
    "             f\"{height:.4f}\", ha=\"center\", va=\"bottom\", fontsize=10)\n",
    "\n",
    "plt.ylabel(\"Accuracy\")\n",
    "plt.ylim(0, 1.05)\n",
    "plt.title(\"Baseline Accuracy Comparison: LightGBM vs XGBoost\")\n",
    "plt.grid(axis=\"y\", linestyle=\"--\", alpha=0.5)\n",
    "plt.show()\n"
   ]
  }
 ],
 "metadata": {
  "kernelspec": {
   "display_name": "mlenv",
   "language": "python",
   "name": "python3"
  },
  "language_info": {
   "codemirror_mode": {
    "name": "ipython",
    "version": 3
   },
   "file_extension": ".py",
   "mimetype": "text/x-python",
   "name": "python",
   "nbconvert_exporter": "python",
   "pygments_lexer": "ipython3",
   "version": "3.9.20"
  }
 },
 "nbformat": 4,
 "nbformat_minor": 5
}
